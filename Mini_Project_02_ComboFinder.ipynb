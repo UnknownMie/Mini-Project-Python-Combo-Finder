{
  "nbformat": 4,
  "nbformat_minor": 0,
  "metadata": {
    "colab": {
      "provenance": [],
      "authorship_tag": "ABX9TyP0rTlgPN1oxBo9QT17q0mL",
      "include_colab_link": true
    },
    "kernelspec": {
      "name": "python3",
      "display_name": "Python 3"
    },
    "language_info": {
      "name": "python"
    }
  },
  "cells": [
    {
      "cell_type": "markdown",
      "metadata": {
        "id": "view-in-github",
        "colab_type": "text"
      },
      "source": [
        "<a href=\"https://colab.research.google.com/github/UnknownMie/Mini-Project-Python-Combo-Finder/blob/main/Mini_Project_02_ComboFinder.ipynb\" target=\"_parent\"><img src=\"https://colab.research.google.com/assets/colab-badge.svg\" alt=\"Open In Colab\"/></a>"
      ]
    },
    {
      "cell_type": "code",
      "source": [
        "import csv\n",
        "import pandas as pd\n",
        "import random as r\n",
        "iterations = int(input(\"Enter no. of iterations:\"))\n",
        "ll=290\n",
        "ul=310\n",
        "pricelist={}\n",
        "with open('/content/price_list.csv', 'r') as file:\n",
        "  csvreader = csv.reader(file)\n",
        "  for i in csvreader:\n",
        "      try:\n",
        "        pricelist[i[0]] = int(i[1])\n",
        "      except:\n",
        "        continue\n",
        "result=set()\n",
        "for i in range(iterations):\n",
        "  size = r.randint(2,len(pricelist)-1)\n",
        "  A = r.choices(list(pricelist.keys()),k = size)\n",
        "  tsum=0\n",
        "  for j in A:\n",
        "    tsum = tsum + pricelist[j] \n",
        "  if tsum in range(ll,ul+1):\n",
        "    result.add(tuple(A))\n",
        "print(\"Number of combos are: \",len(result))\n",
        "print(\"The combos are:\")\n",
        "for i in result:\n",
        "  print(i)"
      ],
      "metadata": {
        "colab": {
          "base_uri": "https://localhost:8080/"
        },
        "id": "928FI7oa2WPB",
        "outputId": "e844c5ea-a9d5-4d34-a517-8bfe6cda57a3"
      },
      "execution_count": 10,
      "outputs": [
        {
          "output_type": "stream",
          "name": "stdout",
          "text": [
            "Enter no. of iterations:1000\n",
            "Number of combos are:  41\n",
            "The combos are:\n",
            "('p8', 'p10', 'p3', 'p6', 'p2', 'p13', 'p9')\n",
            "('p1', 'p12', 'p8', 'p12', 'p5', 'p2', 'p10')\n",
            "('p1', 'p10', 'p3', 'p10', 'p11', 'p2', 'p7', 'p3')\n",
            "('p10', 'p9', 'p13', 'p9', 'p4', 'p2', 'p2', 'p1')\n",
            "('p2', 'p2', 'p14', 'p14', 'p2', 'p1', 'p12', 'p12', 'p1')\n",
            "('p9', 'p8', 'p12', 'p3', 'p11', 'p3', 'p5')\n",
            "('p2', 'p11', 'p8', 'p12', 'p14', 'p4', 'p6')\n",
            "('p10', 'p5', 'p4', 'p8', 'p10', 'p2', 'p2', 'p11')\n",
            "('p7', 'p2', 'p8', 'p13', 'p13', 'p7')\n",
            "('p10', 'p7', 'p14', 'p14', 'p12', 'p3')\n",
            "('p1', 'p2', 'p5', 'p6', 'p10', 'p1', 'p10', 'p12')\n",
            "('p9', 'p7', 'p5', 'p5', 'p9', 'p5', 'p9')\n",
            "('p12', 'p12', 'p5', 'p10', 'p1', 'p3', 'p6')\n",
            "('p10', 'p1', 'p7', 'p13', 'p5', 'p13')\n",
            "('p7', 'p14', 'p7', 'p11', 'p2', 'p12')\n",
            "('p8', 'p2', 'p5', 'p7', 'p13', 'p8', 'p7')\n",
            "('p9', 'p1', 'p13', 'p11', 'p4', 'p13')\n",
            "('p8', 'p2', 'p2', 'p10', 'p10', 'p5', 'p5', 'p6', 'p2')\n",
            "('p6', 'p10', 'p8', 'p4', 'p14', 'p2', 'p1', 'p12')\n",
            "('p1', 'p3', 'p13', 'p2', 'p1', 'p8', 'p8', 'p5', 'p1', 'p7')\n",
            "('p10', 'p7', 'p7', 'p9', 'p5', 'p11')\n",
            "('p1', 'p14', 'p2', 'p4', 'p7', 'p14', 'p3', 'p4', 'p11')\n",
            "('p11', 'p6', 'p9', 'p5', 'p9', 'p10')\n",
            "('p14', 'p11', 'p14', 'p10', 'p13', 'p4')\n",
            "('p10', 'p3', 'p1', 'p14', 'p4', 'p11', 'p11')\n",
            "('p6', 'p7', 'p6', 'p4', 'p8', 'p13', 'p14')\n",
            "('p12', 'p11', 'p12', 'p5', 'p14', 'p1')\n",
            "('p13', 'p11', 'p12', 'p12', 'p4')\n",
            "('p4', 'p7', 'p10', 'p13', 'p11', 'p5', 'p1')\n",
            "('p6', 'p14', 'p9', 'p10', 'p4', 'p13')\n",
            "('p2', 'p1', 'p9', 'p10', 'p11', 'p2', 'p9', 'p5')\n",
            "('p9', 'p8', 'p8', 'p12', 'p2', 'p1', 'p13')\n",
            "('p3', 'p13', 'p11', 'p1', 'p8', 'p7', 'p6')\n",
            "('p12', 'p10', 'p5', 'p4', 'p12', 'p6')\n",
            "('p13', 'p11', 'p1', 'p8', 'p9', 'p13')\n",
            "('p11', 'p9', 'p5', 'p13', 'p12')\n",
            "('p9', 'p3', 'p4', 'p9', 'p9', 'p1', 'p9', 'p4')\n",
            "('p2', 'p1', 'p2', 'p6', 'p12', 'p2', 'p14', 'p1', 'p13', 'p2')\n",
            "('p2', 'p9', 'p2', 'p9', 'p5', 'p13', 'p4', 'p14')\n",
            "('p1', 'p2', 'p14', 'p2', 'p7', 'p1', 'p1', 'p8', 'p1', 'p14', 'p7')\n",
            "('p3', 'p2', 'p12', 'p14', 'p7', 'p9', 'p5')\n"
          ]
        }
      ]
    }
  ]
}